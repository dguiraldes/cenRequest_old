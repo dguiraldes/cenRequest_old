{
 "cells": [
  {
   "cell_type": "code",
   "execution_count": 1,
   "metadata": {},
   "outputs": [],
   "source": [
    "import pandas as pd\n",
    "from cenRequest_v9 import cenRequest\n",
    "import datetime"
   ]
  },
  {
   "cell_type": "code",
   "execution_count": 2,
   "metadata": {},
   "outputs": [
    {
     "name": "stdout",
     "output_type": "stream",
     "text": [
      "Inicializando con token 0\n"
     ]
    }
   ],
   "source": [
    "Gx=cenRequest('GENERACION_CENTRALES')"
   ]
  },
  {
   "cell_type": "code",
   "execution_count": 3,
   "metadata": {},
   "outputs": [
    {
     "name": "stdout",
     "output_type": "stream",
     "text": [
      "Empezando extraccion de datos a las 09:29:36.991106\n",
      "token 0 saturado\n",
      "token 1 saturado\n",
      "token 2 saturado\n",
      "token 3 saturado\n",
      "token 4 saturado\n",
      "token 5 saturado\n",
      "token 6 saturado\n",
      "token 7 saturado\n",
      "Todos los tokens utilizados\n",
      "Esperando 3400, retomando a las 10:57:22.514798\n",
      "Proceso de extraccion termninado a las 10:58:03.310837, con token 7\n"
     ]
    }
   ],
   "source": [
    "newDate=(datetime.date.today() - datetime.timedelta(1)).strftime(\"%Y-%m-%d\")\n",
    "data=Gx.cargaM('2018-01-01',newDate)"
   ]
  },
  {
   "cell_type": "code",
   "execution_count": 7,
   "metadata": {},
   "outputs": [
    {
     "ename": "ModuleNotFoundError",
     "evalue": "No module named 'pandleau'",
     "output_type": "error",
     "traceback": [
      "\u001b[0;31m---------------------------------------------------------------------------\u001b[0m",
      "\u001b[0;31mModuleNotFoundError\u001b[0m                       Traceback (most recent call last)",
      "\u001b[0;32m<ipython-input-7-2f8a46218080>\u001b[0m in \u001b[0;36m<module>\u001b[0;34m()\u001b[0m\n\u001b[0;32m----> 1\u001b[0;31m \u001b[0;32mfrom\u001b[0m \u001b[0mpandleau\u001b[0m \u001b[0;32mimport\u001b[0m \u001b[0;34m*\u001b[0m\u001b[0;34m\u001b[0m\u001b[0m\n\u001b[0m",
      "\u001b[0;31mModuleNotFoundError\u001b[0m: No module named 'pandleau'"
     ]
    }
   ],
   "source": [
    "from pandleau import *"
   ]
  },
  {
   "cell_type": "code",
   "execution_count": 6,
   "metadata": {},
   "outputs": [
    {
     "ename": "NameError",
     "evalue": "name 'pandleau' is not defined",
     "output_type": "error",
     "traceback": [
      "\u001b[0;31m---------------------------------------------------------------------------\u001b[0m",
      "\u001b[0;31mNameError\u001b[0m                                 Traceback (most recent call last)",
      "\u001b[0;32m<ipython-input-6-33fe075d2953>\u001b[0m in \u001b[0;36m<module>\u001b[0;34m()\u001b[0m\n\u001b[0;32m----> 1\u001b[0;31m \u001b[0mcenRequest\u001b[0m\u001b[0;34m.\u001b[0m\u001b[0mtoTableau\u001b[0m\u001b[0;34m(\u001b[0m\u001b[0mdata\u001b[0m\u001b[0;34m,\u001b[0m\u001b[0;34m'GENERACION_CENTRALES'\u001b[0m\u001b[0;34m,\u001b[0m\u001b[0mproj_name\u001b[0m\u001b[0;34m=\u001b[0m\u001b[0;34m'CENAPI2'\u001b[0m\u001b[0;34m,\u001b[0m\u001b[0mmode\u001b[0m\u001b[0;34m=\u001b[0m\u001b[0;34m'Overwrite'\u001b[0m\u001b[0;34m)\u001b[0m\u001b[0;34m\u001b[0m\u001b[0m\n\u001b[0m",
      "\u001b[0;32m/mnt/c/Users/ep_dguiraldes/Documents/API/cenRequest/cenRequest_v9.py\u001b[0m in \u001b[0;36mtoTableau\u001b[0;34m(data, outname, site_id, user, password, server, proj_name, mode)\u001b[0m\n\u001b[1;32m    333\u001b[0m             \u001b[0;32mreturn\u001b[0m\u001b[0;34m\u001b[0m\u001b[0m\n\u001b[1;32m    334\u001b[0m         \u001b[0mfilename\u001b[0m\u001b[0;34m=\u001b[0m\u001b[0moutname\u001b[0m\u001b[0;34m+\u001b[0m\u001b[0;34m'.hyper'\u001b[0m\u001b[0;34m\u001b[0m\u001b[0m\n\u001b[0;32m--> 335\u001b[0;31m         \u001b[0mdf_tableau\u001b[0m \u001b[0;34m=\u001b[0m \u001b[0mpandleau\u001b[0m\u001b[0;34m(\u001b[0m\u001b[0mdata\u001b[0m\u001b[0;34m)\u001b[0m\u001b[0;34m\u001b[0m\u001b[0m\n\u001b[0m\u001b[1;32m    336\u001b[0m         \u001b[0mdf_tableau\u001b[0m\u001b[0;34m.\u001b[0m\u001b[0mto_tableau\u001b[0m\u001b[0;34m(\u001b[0m\u001b[0mfilename\u001b[0m\u001b[0;34m,\u001b[0m \u001b[0madd_index\u001b[0m\u001b[0;34m=\u001b[0m\u001b[0;32mFalse\u001b[0m\u001b[0;34m)\u001b[0m\u001b[0;34m\u001b[0m\u001b[0m\n\u001b[1;32m    337\u001b[0m         \u001b[0mtableau_auth\u001b[0m \u001b[0;34m=\u001b[0m \u001b[0mTSC\u001b[0m\u001b[0;34m.\u001b[0m\u001b[0mTableauAuth\u001b[0m\u001b[0;34m(\u001b[0m\u001b[0muser\u001b[0m\u001b[0;34m,\u001b[0m \u001b[0mpassword\u001b[0m\u001b[0;34m,\u001b[0m\u001b[0msite_id\u001b[0m\u001b[0;34m=\u001b[0m\u001b[0msite_id\u001b[0m\u001b[0;34m)\u001b[0m\u001b[0;34m\u001b[0m\u001b[0m\n",
      "\u001b[0;31mNameError\u001b[0m: name 'pandleau' is not defined"
     ]
    }
   ],
   "source": [
    "cenRequest.toTableau(data(,'GENERACION_CENTRALES',proj_name='CENAPI2',mode='Overwrite'))"
   ]
  },
  {
   "cell_type": "code",
   "execution_count": 9,
   "metadata": {},
   "outputs": [],
   "source": [
    "data.to_csv('gx_centrales.csv')"
   ]
  },
  {
   "cell_type": "code",
   "execution_count": null,
   "metadata": {},
   "outputs": [],
   "source": []
  }
 ],
 "metadata": {
  "kernelspec": {
   "display_name": "Python 3",
   "language": "python",
   "name": "python3"
  },
  "language_info": {
   "codemirror_mode": {
    "name": "ipython",
    "version": 3
   },
   "file_extension": ".py",
   "mimetype": "text/x-python",
   "name": "python",
   "nbconvert_exporter": "python",
   "pygments_lexer": "ipython3",
   "version": "3.6.5"
  }
 },
 "nbformat": 4,
 "nbformat_minor": 2
}
